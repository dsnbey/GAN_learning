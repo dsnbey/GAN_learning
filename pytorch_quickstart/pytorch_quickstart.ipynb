{
 "cells": [
  {
   "cell_type": "markdown",
   "metadata": {},
   "source": [
    "# QUICKSTART"
   ]
  },
  {
   "cell_type": "markdown",
   "metadata": {},
   "source": [
    "## Working with data\n",
    "\n",
    "Dataset: store samples and lables, contains popular datasets \\\n",
    "DataLoader: wraps an iterable around Dataset"
   ]
  },
  {
   "cell_type": "code",
   "execution_count": 4,
   "metadata": {},
   "outputs": [],
   "source": [
    "import torch\n",
    "from torch import nn \n",
    "from torch.utils.data import DataLoader\n",
    "from torchvision import datasets\n",
    "from torchvision.transforms import ToTensor"
   ]
  },
  {
   "cell_type": "markdown",
   "metadata": {},
   "source": [
    "Dataset object includes 2 args: transform and target_transform to modify samples and labels respectively."
   ]
  },
  {
   "cell_type": "code",
   "execution_count": 6,
   "metadata": {},
   "outputs": [
    {
     "name": "stdout",
     "output_type": "stream",
     "text": [
      "Downloading http://fashion-mnist.s3-website.eu-central-1.amazonaws.com/train-images-idx3-ubyte.gz\n",
      "Downloading http://fashion-mnist.s3-website.eu-central-1.amazonaws.com/train-images-idx3-ubyte.gz to data\\FashionMNIST\\raw\\train-images-idx3-ubyte.gz\n"
     ]
    },
    {
     "name": "stderr",
     "output_type": "stream",
     "text": [
      "100.0%\n"
     ]
    },
    {
     "name": "stdout",
     "output_type": "stream",
     "text": [
      "Extracting data\\FashionMNIST\\raw\\train-images-idx3-ubyte.gz to data\\FashionMNIST\\raw\n",
      "\n",
      "Downloading http://fashion-mnist.s3-website.eu-central-1.amazonaws.com/train-labels-idx1-ubyte.gz\n"
     ]
    },
    {
     "name": "stderr",
     "output_type": "stream",
     "text": [
      "100.0%"
     ]
    },
    {
     "name": "stdout",
     "output_type": "stream",
     "text": [
      "Downloading http://fashion-mnist.s3-website.eu-central-1.amazonaws.com/train-labels-idx1-ubyte.gz to data\\FashionMNIST\\raw\\train-labels-idx1-ubyte.gz\n"
     ]
    },
    {
     "name": "stderr",
     "output_type": "stream",
     "text": [
      "\n"
     ]
    },
    {
     "name": "stdout",
     "output_type": "stream",
     "text": [
      "Extracting data\\FashionMNIST\\raw\\train-labels-idx1-ubyte.gz to data\\FashionMNIST\\raw\n",
      "\n",
      "Downloading http://fashion-mnist.s3-website.eu-central-1.amazonaws.com/t10k-images-idx3-ubyte.gz\n",
      "Downloading http://fashion-mnist.s3-website.eu-central-1.amazonaws.com/t10k-images-idx3-ubyte.gz to data\\FashionMNIST\\raw\\t10k-images-idx3-ubyte.gz\n"
     ]
    },
    {
     "name": "stderr",
     "output_type": "stream",
     "text": [
      "100.0%\n"
     ]
    },
    {
     "name": "stdout",
     "output_type": "stream",
     "text": [
      "Extracting data\\FashionMNIST\\raw\\t10k-images-idx3-ubyte.gz to data\\FashionMNIST\\raw\n",
      "\n",
      "Downloading http://fashion-mnist.s3-website.eu-central-1.amazonaws.com/t10k-labels-idx1-ubyte.gz\n",
      "Downloading http://fashion-mnist.s3-website.eu-central-1.amazonaws.com/t10k-labels-idx1-ubyte.gz to data\\FashionMNIST\\raw\\t10k-labels-idx1-ubyte.gz\n"
     ]
    },
    {
     "name": "stderr",
     "output_type": "stream",
     "text": [
      "100.0%"
     ]
    },
    {
     "name": "stdout",
     "output_type": "stream",
     "text": [
      "Extracting data\\FashionMNIST\\raw\\t10k-labels-idx1-ubyte.gz to data\\FashionMNIST\\raw\n",
      "\n"
     ]
    },
    {
     "name": "stderr",
     "output_type": "stream",
     "text": [
      "\n"
     ]
    }
   ],
   "source": [
    "# Download training data\n",
    "training_data = datasets.FashionMNIST(\n",
    "    root=\"data\",\n",
    "    train=True,\n",
    "    download=True,\n",
    "    transform=ToTensor()\n",
    ")\n",
    "\n",
    "# Download test data\n",
    "test_data = datasets.FashionMNIST(\n",
    "    root=\"data\",\n",
    "    train=False,\n",
    "    download=True,\n",
    "    transform=ToTensor()\n",
    ")"
   ]
  },
  {
   "cell_type": "markdown",
   "metadata": {},
   "source": [
    "Pass the dataset as an argument to DataLoader \\\n",
    "This wraps an iterable over the dataset, supporting automatic batching, sampling, shuffling and multiprocess data loading. \\\n",
    "Here, define a batch size of 64 --> Each element in the dataloader iterable will return a batch of 64 features and labels."
   ]
  },
  {
   "cell_type": "code",
   "execution_count": 7,
   "metadata": {},
   "outputs": [
    {
     "name": "stdout",
     "output_type": "stream",
     "text": [
      "Shape of X [N, C, H, W]: torch.Size([64, 1, 28, 28])\n",
      "Shape of y: torch.Size([64]) torch.int64\n"
     ]
    }
   ],
   "source": [
    "batch_size = 64\n",
    "\n",
    "# create dataloaders\n",
    "train_dataloader = DataLoader(training_data, batch_size=batch_size)\n",
    "test_dataloader = DataLoader(test_data, batch_size=batch_size)\n",
    "\n",
    "for X, y in test_dataloader:\n",
    "    print(f\"Shape of X [N, C, H, W]: {X.shape}\")\n",
    "    print(f\"Shape of y: {y.shape} {y.dtype}\")\n",
    "    break"
   ]
  },
  {
   "cell_type": "markdown",
   "metadata": {},
   "source": [
    "More on loading data: https://pytorch.org/tutorials/beginner/basics/data_tutorial.html"
   ]
  },
  {
   "cell_type": "markdown",
   "metadata": {},
   "source": [
    "## Create Models\n",
    "\n",
    "- To create a neural network, create a class that inherits from [nn.Module](https://pytorch.org/docs/stable/generated/torch.nn.Module.html). \n",
    "- __init__ : define layers\n",
    "- forward: how data will pass through the network\n",
    "- you can set device to CPU, GPU or MPS"
   ]
  },
  {
   "cell_type": "code",
   "execution_count": 8,
   "metadata": {},
   "outputs": [
    {
     "name": "stdout",
     "output_type": "stream",
     "text": [
      "Using cuda device\n",
      "NeuralNetwork(\n",
      "  (flatten): Flatten(start_dim=1, end_dim=-1)\n",
      "  (linear_relu_stack): Sequential(\n",
      "    (0): Linear(in_features=784, out_features=512, bias=True)\n",
      "    (1): ReLU()\n",
      "    (2): Linear(in_features=512, out_features=512, bias=True)\n",
      "    (3): ReLU()\n",
      "    (4): Linear(in_features=512, out_features=10, bias=True)\n",
      "  )\n",
      ")\n"
     ]
    }
   ],
   "source": [
    "# get gpu if available\n",
    "device = (\"cuda\" if torch.cuda.is_available() else \"cpu\")\n",
    "print(f\"Using {device} device\")\n",
    "\n",
    "# define model\n",
    "\n",
    "class NeuralNetwork(nn.Module):\n",
    "\n",
    "    # define architecture\n",
    "    def __init__(self):\n",
    "        super().__init__()\n",
    "        self.flatten= nn.Flatten()\n",
    "        self.linear_relu_stack = nn.Sequential(\n",
    "            nn.Linear(28*28,512),\n",
    "            nn.ReLU(),\n",
    "            nn.Linear(512,512),\n",
    "            nn.ReLU(),\n",
    "            nn.Linear(512,10)\n",
    "        )\n",
    "\n",
    "    # define data passing through network\n",
    "    def forward(self, x):\n",
    "        x = self.flatten(x)\n",
    "        logits = self.linear_relu_stack(x)\n",
    "        return logits\n",
    "    \n",
    "model = NeuralNetwork().to(device)\n",
    "print(model)\n"
   ]
  },
  {
   "cell_type": "markdown",
   "metadata": {},
   "source": [
    "More on building neural networks: https://pytorch.org/tutorials/beginner/basics/buildmodel_tutorial.html"
   ]
  },
  {
   "cell_type": "markdown",
   "metadata": {},
   "source": [
    "## Optimizing Model Parameters\n",
    "\n",
    "To train a model, we need a [loss function](https://pytorch.org/docs/stable/nn.html#loss-functions) and [optimizer](https://pytorch.org/docs/stable/optim.html)."
   ]
  },
  {
   "cell_type": "code",
   "execution_count": 9,
   "metadata": {},
   "outputs": [],
   "source": [
    "loss_fn = nn.CrossEntropyLoss()\n",
    "optimizer = torch.optim.SGD(model.parameters(), lr=1e-3)"
   ]
  },
  {
   "cell_type": "markdown",
   "metadata": {},
   "source": [
    "- In a single training loop, model makes predictions on the training dataset (fed to it in batches), and backpropagates the prediction error to adjust the model's parameters.\n",
    "- model.train() puts the model into training mode, which is important for defining certain layer's functions, such as dropout and batch normalization layers\n",
    "- Pytorch adds gradients in optimizer's grad attribute. This is useful in certain situations such as summing gradients across multiple mini-batches. However, in standart training loop, it's desired to use gradients for only the current batch. Thus, reset the grad attribute by: optimizer.zero_grad()\n"
   ]
  },
  {
   "cell_type": "code",
   "execution_count": 10,
   "metadata": {},
   "outputs": [],
   "source": [
    "def train(dataloader, model, loss_fn, optimizer):\n",
    "\n",
    "    size = len(dataloader.dataset)\n",
    "    model.train() \n",
    "\n",
    "    for batch, (X,y) in enumerate(dataloader):\n",
    "        X,y = X.to(device), y.to(device) # initially loaded into cpu's RAM. \n",
    "\n",
    "        # compute prediction error\n",
    "        pred = model(X)\n",
    "        loss = loss_fn(pred,y)\n",
    "        \n",
    "        # backpropagate\n",
    "        loss.backward()\n",
    "        optimizer.step()\n",
    "        optimizer.zero_grad()\n",
    "\n",
    "        # print the loss in every 100 batch\n",
    "        if batch % 100 == 0:\n",
    "            loss, current = loss.item(), (batch + 1) * len(X)\n",
    "            print(f\"loss: {loss:>7f}  [{current:>5d}/{size:>5d}]\")\n",
    "        "
   ]
  },
  {
   "cell_type": "markdown",
   "metadata": {},
   "source": [
    "- Also, check the model's performance against the test dataset -validation set, to be accurate-.\n",
    "- model.eval(): puts the model into evaluation state\n",
    "- torch.no_grad(): disable gradient calculation which is not needed --> save memory\n",
    "- .item():  convert the loss from tensor to Python number"
   ]
  },
  {
   "cell_type": "code",
   "execution_count": 11,
   "metadata": {},
   "outputs": [],
   "source": [
    "def test(dataloader, model, loss_fn):\n",
    "    size = len(dataloader.dataset)\n",
    "    bacthes = len(dataloader)\n",
    "    model.eval() \n",
    "    test_loss, correct = 0, 0\n",
    "    with torch.no_grad():\n",
    "        for X, y in dataloader:\n",
    "            X, y = X.to(device), y.to(device)\n",
    "            pred = model(X)\n",
    "            test_loss += loss_fn(pred, y).item()\n",
    "            correct += (pred.argmax(1) == y).type(torch.float).sum().item()\n",
    "    test_loss /= bacthes\n",
    "    correct /= size\n",
    "    print(f\"Test Error: \\n Accuracy: {(100*correct):>0.1f}%, Avg loss: {test_loss:>8f} \\n\")"
   ]
  },
  {
   "cell_type": "markdown",
   "metadata": {},
   "source": [
    "Train and test the model in a loop"
   ]
  },
  {
   "cell_type": "code",
   "execution_count": 13,
   "metadata": {},
   "outputs": [
    {
     "name": "stdout",
     "output_type": "stream",
     "text": [
      "Epoch 1\n",
      "-------------------------------\n",
      "loss: 2.292928  [   64/60000]\n",
      "loss: 2.284130  [ 6464/60000]\n",
      "loss: 2.267545  [12864/60000]\n",
      "loss: 2.264941  [19264/60000]\n",
      "loss: 2.246005  [25664/60000]\n",
      "loss: 2.207671  [32064/60000]\n",
      "loss: 2.224888  [38464/60000]\n",
      "loss: 2.186148  [44864/60000]\n",
      "loss: 2.185392  [51264/60000]\n",
      "loss: 2.149645  [57664/60000]\n",
      "Test Error: \n",
      " Accuracy: 38.2%, Avg loss: 2.150157 \n",
      "\n",
      "Epoch 2\n",
      "-------------------------------\n",
      "loss: 2.157645  [   64/60000]\n",
      "loss: 2.147261  [ 6464/60000]\n",
      "loss: 2.089336  [12864/60000]\n",
      "loss: 2.110262  [19264/60000]\n",
      "loss: 2.062463  [25664/60000]\n",
      "loss: 1.991277  [32064/60000]\n",
      "loss: 2.028081  [38464/60000]\n",
      "loss: 1.944594  [44864/60000]\n",
      "loss: 1.956572  [51264/60000]\n",
      "loss: 1.876418  [57664/60000]\n",
      "Test Error: \n",
      " Accuracy: 58.9%, Avg loss: 1.884309 \n",
      "\n",
      "Epoch 3\n",
      "-------------------------------\n",
      "loss: 1.916875  [   64/60000]\n",
      "loss: 1.882778  [ 6464/60000]\n",
      "loss: 1.767683  [12864/60000]\n",
      "loss: 1.814804  [19264/60000]\n",
      "loss: 1.703718  [25664/60000]\n",
      "loss: 1.651044  [32064/60000]\n",
      "loss: 1.677577  [38464/60000]\n",
      "loss: 1.579708  [44864/60000]\n",
      "loss: 1.610183  [51264/60000]\n",
      "loss: 1.496937  [57664/60000]\n",
      "Test Error: \n",
      " Accuracy: 62.4%, Avg loss: 1.522846 \n",
      "\n",
      "Epoch 4\n",
      "-------------------------------\n",
      "loss: 1.593370  [   64/60000]\n",
      "loss: 1.551363  [ 6464/60000]\n",
      "loss: 1.401977  [12864/60000]\n",
      "loss: 1.478022  [19264/60000]\n",
      "loss: 1.356767  [25664/60000]\n",
      "loss: 1.356757  [32064/60000]\n",
      "loss: 1.369031  [38464/60000]\n",
      "loss: 1.297304  [44864/60000]\n",
      "loss: 1.335095  [51264/60000]\n",
      "loss: 1.231224  [57664/60000]\n",
      "Test Error: \n",
      " Accuracy: 63.1%, Avg loss: 1.259102 \n",
      "\n",
      "Epoch 5\n",
      "-------------------------------\n",
      "loss: 1.342049  [   64/60000]\n",
      "loss: 1.318408  [ 6464/60000]\n",
      "loss: 1.149065  [12864/60000]\n",
      "loss: 1.258308  [19264/60000]\n",
      "loss: 1.133237  [25664/60000]\n",
      "loss: 1.161848  [32064/60000]\n",
      "loss: 1.178822  [38464/60000]\n",
      "loss: 1.119711  [44864/60000]\n",
      "loss: 1.161759  [51264/60000]\n",
      "loss: 1.075410  [57664/60000]\n",
      "Test Error: \n",
      " Accuracy: 64.4%, Avg loss: 1.095384 \n",
      "\n",
      "Epoch 6\n",
      "-------------------------------\n",
      "loss: 1.171364  [   64/60000]\n",
      "loss: 1.171272  [ 6464/60000]\n",
      "loss: 0.983851  [12864/60000]\n",
      "loss: 1.122054  [19264/60000]\n",
      "loss: 0.997386  [25664/60000]\n",
      "loss: 1.030319  [32064/60000]\n",
      "loss: 1.060591  [38464/60000]\n",
      "loss: 1.005857  [44864/60000]\n",
      "loss: 1.048780  [51264/60000]\n",
      "loss: 0.977469  [57664/60000]\n",
      "Test Error: \n",
      " Accuracy: 65.6%, Avg loss: 0.989391 \n",
      "\n",
      "Epoch 7\n",
      "-------------------------------\n",
      "loss: 1.051178  [   64/60000]\n",
      "loss: 1.075020  [ 6464/60000]\n",
      "loss: 0.870048  [12864/60000]\n",
      "loss: 1.031835  [19264/60000]\n",
      "loss: 0.911106  [25664/60000]\n",
      "loss: 0.937052  [32064/60000]\n",
      "loss: 0.982489  [38464/60000]\n",
      "loss: 0.930669  [44864/60000]\n",
      "loss: 0.970040  [51264/60000]\n",
      "loss: 0.911213  [57664/60000]\n",
      "Test Error: \n",
      " Accuracy: 66.8%, Avg loss: 0.916442 \n",
      "\n",
      "Epoch 8\n",
      "-------------------------------\n",
      "loss: 0.961910  [   64/60000]\n",
      "loss: 1.007215  [ 6464/60000]\n",
      "loss: 0.787763  [12864/60000]\n",
      "loss: 0.967704  [19264/60000]\n",
      "loss: 0.852351  [25664/60000]\n",
      "loss: 0.868240  [32064/60000]\n",
      "loss: 0.926978  [38464/60000]\n",
      "loss: 0.879540  [44864/60000]\n",
      "loss: 0.912428  [51264/60000]\n",
      "loss: 0.863117  [57664/60000]\n",
      "Test Error: \n",
      " Accuracy: 68.0%, Avg loss: 0.863476 \n",
      "\n",
      "Epoch 9\n",
      "-------------------------------\n",
      "loss: 0.892862  [   64/60000]\n",
      "loss: 0.955890  [ 6464/60000]\n",
      "loss: 0.725685  [12864/60000]\n",
      "loss: 0.919640  [19264/60000]\n",
      "loss: 0.810125  [25664/60000]\n",
      "loss: 0.816430  [32064/60000]\n",
      "loss: 0.884953  [38464/60000]\n",
      "loss: 0.843582  [44864/60000]\n",
      "loss: 0.869018  [51264/60000]\n",
      "loss: 0.826280  [57664/60000]\n",
      "Test Error: \n",
      " Accuracy: 69.1%, Avg loss: 0.823284 \n",
      "\n",
      "Epoch 10\n",
      "-------------------------------\n",
      "loss: 0.837791  [   64/60000]\n",
      "loss: 0.914701  [ 6464/60000]\n",
      "loss: 0.677333  [12864/60000]\n",
      "loss: 0.882310  [19264/60000]\n",
      "loss: 0.778128  [25664/60000]\n",
      "loss: 0.776775  [32064/60000]\n",
      "loss: 0.851112  [38464/60000]\n",
      "loss: 0.817143  [44864/60000]\n",
      "loss: 0.835418  [51264/60000]\n",
      "loss: 0.796584  [57664/60000]\n",
      "Test Error: \n",
      " Accuracy: 70.3%, Avg loss: 0.791421 \n",
      "\n",
      "Finished!\n"
     ]
    }
   ],
   "source": [
    "epochs = 10\n",
    "for i in range(epochs):\n",
    "    print(f\"Epoch {i+1}\\n-------------------------------\")\n",
    "    train(train_dataloader, model, loss_fn, optimizer)\n",
    "    test(test_dataloader, model, loss_fn)\n",
    "print(\"Finished!\")"
   ]
  },
  {
   "cell_type": "markdown",
   "metadata": {},
   "source": [
    "More about training the model: https://pytorch.org/tutorials/beginner/basics/optimization_tutorial.html"
   ]
  },
  {
   "cell_type": "markdown",
   "metadata": {},
   "source": [
    "## Saving & Loading the Model\n"
   ]
  },
  {
   "cell_type": "markdown",
   "metadata": {},
   "source": [
    "### Save\n",
    "Serialize the internal state dictionary"
   ]
  },
  {
   "cell_type": "code",
   "execution_count": 14,
   "metadata": {},
   "outputs": [],
   "source": [
    "torch.save(model.state_dict(), \"trained_model\")"
   ]
  },
  {
   "cell_type": "markdown",
   "metadata": {},
   "source": [
    "### Load\n",
    "Recreate the modelstructure and load the state dictionary"
   ]
  },
  {
   "cell_type": "code",
   "execution_count": 15,
   "metadata": {},
   "outputs": [
    {
     "data": {
      "text/plain": [
       "<All keys matched successfully>"
      ]
     },
     "execution_count": 15,
     "metadata": {},
     "output_type": "execute_result"
    }
   ],
   "source": [
    "new_model = NeuralNetwork().to(device)\n",
    "new_model.load_state_dict(torch.load(\"trained_model\"))"
   ]
  },
  {
   "cell_type": "markdown",
   "metadata": {},
   "source": [
    "##### Example to test the loaded model"
   ]
  },
  {
   "cell_type": "code",
   "execution_count": 19,
   "metadata": {},
   "outputs": [
    {
     "name": "stdout",
     "output_type": "stream",
     "text": [
      "Predicted: \"Ankle boot\", Actual: \"Ankle boot\"\n",
      "Predicted: \"Pullover\", Actual: \"Pullover\"\n",
      "Predicted: \"Trouser\", Actual: \"Trouser\"\n",
      "Predicted: \"Trouser\", Actual: \"Trouser\"\n",
      "Predicted: \"Shirt\", Actual: \"Shirt\"\n",
      "Predicted: \"Trouser\", Actual: \"Trouser\"\n",
      "Predicted: \"Shirt\", Actual: \"Coat\"\n",
      "Predicted: \"Coat\", Actual: \"Shirt\"\n",
      "Predicted: \"Sneaker\", Actual: \"Sandal\"\n",
      "Predicted: \"Sneaker\", Actual: \"Sneaker\"\n"
     ]
    }
   ],
   "source": [
    "classes = [\n",
    "    \"T-shirt/top\",\n",
    "    \"Trouser\",\n",
    "    \"Pullover\",\n",
    "    \"Dress\",\n",
    "    \"Coat\",\n",
    "    \"Sandal\",\n",
    "    \"Shirt\",\n",
    "    \"Sneaker\",\n",
    "    \"Bag\",\n",
    "    \"Ankle boot\",\n",
    "]\n",
    "\n",
    "new_model.eval()\n",
    "with torch.no_grad():\n",
    "    for i in range(10):\n",
    "        x, y = test_data[i][0], test_data[i][1]\n",
    "        x = x.to(device)\n",
    "        pred = model(x)\n",
    "        predicted, actual = classes[pred[0].argmax(0)], classes[y]\n",
    "        print(f'Predicted: \"{predicted}\", Actual: \"{actual}\"')"
   ]
  },
  {
   "cell_type": "markdown",
   "metadata": {},
   "source": [
    "More on saving & loading the model: https://pytorch.org/tutorials/beginner/basics/saveloadrun_tutorial.html"
   ]
  }
 ],
 "metadata": {
  "kernelspec": {
   "display_name": "Python 3",
   "language": "python",
   "name": "python3"
  },
  "language_info": {
   "codemirror_mode": {
    "name": "ipython",
    "version": 3
   },
   "file_extension": ".py",
   "mimetype": "text/x-python",
   "name": "python",
   "nbconvert_exporter": "python",
   "pygments_lexer": "ipython3",
   "version": "0.0.0"
  }
 },
 "nbformat": 4,
 "nbformat_minor": 2
}
