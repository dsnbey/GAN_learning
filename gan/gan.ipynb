{
 "cells": [
  {
   "cell_type": "markdown",
   "metadata": {},
   "source": [
    "# GAN From Scratch\n",
    "\n",
    "Using the paper: [Generative Adversarial Networks by Goodfellow et. al](https://arxiv.org/abs/1406.2661)"
   ]
  },
  {
   "cell_type": "markdown",
   "metadata": {},
   "source": [
    "### Pytorch Implementation\n",
    "This is the first time I'm using Pytorch Framework and implementing a GAN. I receive help from the following video at the places I'm stuck: https://www.youtube.com/watch?v=OljTVUVzPpM&list=PLhhyoLH6IjfwIp8bZnzX8QR30TRcHO8Va&index=2&t=33s"
   ]
  },
  {
   "cell_type": "code",
   "execution_count": 1,
   "metadata": {},
   "outputs": [],
   "source": [
    "import torch\n",
    "import torch.nn as nn\n",
    "import torch.optim as optim\n",
    "import torchvision\n",
    "import torchvision.datasets as datasets\n",
    "from torch.utils.data import DataLoader\n",
    "import torchvision.transforms as transforms\n"
   ]
  },
  {
   "cell_type": "markdown",
   "metadata": {},
   "source": [
    "### Discriminator"
   ]
  },
  {
   "cell_type": "code",
   "execution_count": 2,
   "metadata": {},
   "outputs": [],
   "source": [
    "class Discriminator(nn.Module):\n",
    "    def __init__(self, in_features):\n",
    "        super().__init__()\n",
    "\n",
    "        self.model = nn.Sequential(\n",
    "            nn.Linear(in_features, 512),\n",
    "            nn.LeakyReLU(0.2, inplace=True),\n",
    "            nn.Linear(512, 256),\n",
    "            nn.LeakyReLU(0.2, inplace=True),\n",
    "            nn.Linear(256, 1),\n",
    "            nn.Sigmoid(),\n",
    "        )\n",
    "\n",
    "    def forward(self, img):\n",
    "        img_flat = img.view(img.size(0), -1)\n",
    "        validity = self.model(img_flat)\n",
    "\n",
    "        return validity"
   ]
  },
  {
   "cell_type": "markdown",
   "metadata": {},
   "source": [
    "### Generator"
   ]
  },
  {
   "cell_type": "code",
   "execution_count": 3,
   "metadata": {},
   "outputs": [],
   "source": [
    "class Generator(nn.Module):\n",
    "    def __init__(self, z_dim, in_features):\n",
    "        super().__init__()\n",
    "\n",
    "        def block(in_feat, out_feat, normalize=True):\n",
    "            layers = [nn.Linear(in_feat, out_feat)]\n",
    "            if normalize:\n",
    "                layers.append(nn.BatchNorm1d(out_feat, 0.8))\n",
    "            layers.append(nn.LeakyReLU(0.2, inplace=True))\n",
    "            return layers\n",
    "\n",
    "        self.model = nn.Sequential(\n",
    "            *block(z_dim, 128, normalize=False),\n",
    "            *block(128, 256),\n",
    "            *block(256, 512),\n",
    "            *block(512, 1024),\n",
    "            nn.Linear(1024, in_features),\n",
    "            nn.Tanh()\n",
    "        )\n",
    "\n",
    "    def forward(self, z):\n",
    "        img = self.model(z)\n",
    "        img = img.view(img.size(0), 784)\n",
    "        return img\n"
   ]
  },
  {
   "cell_type": "markdown",
   "metadata": {},
   "source": [
    "### Hyperparameters and initializations"
   ]
  },
  {
   "cell_type": "code",
   "execution_count": 4,
   "metadata": {},
   "outputs": [],
   "source": [
    "device = \"cuda\" if torch.cuda.is_available() else \"cpu\"\n",
    "lr = 3e-4 \n",
    "z_dim = 64\n",
    "image_dim = 28 * 28\n",
    "batch_size = 32\n",
    "num_epochs = 50\n",
    "\n",
    "disc = Discriminator(image_dim).to(device)\n",
    "gen = Generator(z_dim, image_dim).to(device)\n"
   ]
  },
  {
   "cell_type": "markdown",
   "metadata": {},
   "source": [
    "Prepare data"
   ]
  },
  {
   "cell_type": "code",
   "execution_count": 5,
   "metadata": {},
   "outputs": [],
   "source": [
    "import torchvision.transforms as T  # Alias the transforms module\n",
    "\n",
    "transforms = T.Compose(\n",
    "    [\n",
    "        T.ToTensor(),\n",
    "        T.Normalize((0.5,), (0.5,)),\n",
    "    ]\n",
    ")\n",
    "\n",
    "dataset = datasets.MNIST(root=\"dataset\", transform=transforms, download=True)\n",
    "loader = DataLoader(dataset, batch_size=batch_size, shuffle=True)\n"
   ]
  },
  {
   "cell_type": "markdown",
   "metadata": {},
   "source": [
    "Optimizers & Loss"
   ]
  },
  {
   "cell_type": "code",
   "execution_count": 6,
   "metadata": {},
   "outputs": [],
   "source": [
    "opt_disc = optim.Adam(disc.parameters(), lr=lr)\n",
    "opt_gen = optim.Adam(gen.parameters(), lr=lr)\n",
    "criterion = nn.BCELoss()\n"
   ]
  },
  {
   "cell_type": "markdown",
   "metadata": {},
   "source": [
    "### Training Loop"
   ]
  },
  {
   "cell_type": "code",
   "execution_count": 12,
   "metadata": {},
   "outputs": [
    {
     "name": "stdout",
     "output_type": "stream",
     "text": [
      "Epoch [0/50] Batch 0/1875                       Loss D: 0.2918, loss G: 7.4871\n",
      "Epoch [1/50] Batch 0/1875                       Loss D: 0.0515, loss G: 4.8693\n",
      "Epoch [2/50] Batch 0/1875                       Loss D: 0.1211, loss G: 8.9491\n",
      "Epoch [3/50] Batch 0/1875                       Loss D: 0.4132, loss G: 5.6888\n",
      "Epoch [4/50] Batch 0/1875                       Loss D: 0.2068, loss G: 3.3105\n",
      "Epoch [5/50] Batch 0/1875                       Loss D: 0.3103, loss G: 5.6366\n",
      "Epoch [6/50] Batch 0/1875                       Loss D: 0.1134, loss G: 3.5957\n",
      "Epoch [7/50] Batch 0/1875                       Loss D: 0.2661, loss G: 4.8606\n",
      "Epoch [8/50] Batch 0/1875                       Loss D: 0.2662, loss G: 3.9802\n",
      "Epoch [9/50] Batch 0/1875                       Loss D: 0.3591, loss G: 2.8677\n",
      "Epoch [10/50] Batch 0/1875                       Loss D: 0.2818, loss G: 2.3585\n",
      "Epoch [11/50] Batch 0/1875                       Loss D: 0.3050, loss G: 3.0474\n",
      "Epoch [12/50] Batch 0/1875                       Loss D: 0.3034, loss G: 3.5833\n",
      "Epoch [13/50] Batch 0/1875                       Loss D: 0.2870, loss G: 2.5447\n",
      "Epoch [14/50] Batch 0/1875                       Loss D: 0.3914, loss G: 2.7404\n",
      "Epoch [15/50] Batch 0/1875                       Loss D: 0.4021, loss G: 1.9533\n",
      "Epoch [16/50] Batch 0/1875                       Loss D: 0.4934, loss G: 2.5486\n",
      "Epoch [17/50] Batch 0/1875                       Loss D: 0.3787, loss G: 1.8943\n",
      "Epoch [18/50] Batch 0/1875                       Loss D: 0.2896, loss G: 1.4841\n",
      "Epoch [19/50] Batch 0/1875                       Loss D: 0.3408, loss G: 1.8896\n",
      "Epoch [20/50] Batch 0/1875                       Loss D: 0.4682, loss G: 1.4264\n",
      "Epoch [21/50] Batch 0/1875                       Loss D: 0.4143, loss G: 1.5959\n",
      "Epoch [22/50] Batch 0/1875                       Loss D: 0.5474, loss G: 1.3624\n",
      "Epoch [23/50] Batch 0/1875                       Loss D: 0.4116, loss G: 1.3628\n",
      "Epoch [24/50] Batch 0/1875                       Loss D: 0.4186, loss G: 1.4379\n",
      "Epoch [25/50] Batch 0/1875                       Loss D: 0.3280, loss G: 1.9047\n",
      "Epoch [26/50] Batch 0/1875                       Loss D: 0.5241, loss G: 1.0537\n",
      "Epoch [27/50] Batch 0/1875                       Loss D: 0.5145, loss G: 1.7055\n",
      "Epoch [28/50] Batch 0/1875                       Loss D: 0.4290, loss G: 1.5948\n",
      "Epoch [29/50] Batch 0/1875                       Loss D: 0.5612, loss G: 1.1443\n",
      "Epoch [30/50] Batch 0/1875                       Loss D: 0.5259, loss G: 1.7974\n",
      "Epoch [31/50] Batch 0/1875                       Loss D: 0.4854, loss G: 1.4299\n",
      "Epoch [32/50] Batch 0/1875                       Loss D: 0.5102, loss G: 1.4158\n",
      "Epoch [33/50] Batch 0/1875                       Loss D: 0.6215, loss G: 0.9857\n",
      "Epoch [34/50] Batch 0/1875                       Loss D: 0.6066, loss G: 1.0787\n",
      "Epoch [35/50] Batch 0/1875                       Loss D: 0.6192, loss G: 1.2732\n",
      "Epoch [36/50] Batch 0/1875                       Loss D: 0.5883, loss G: 1.0792\n",
      "Epoch [37/50] Batch 0/1875                       Loss D: 0.5962, loss G: 1.1856\n",
      "Epoch [38/50] Batch 0/1875                       Loss D: 0.6646, loss G: 1.0345\n",
      "Epoch [39/50] Batch 0/1875                       Loss D: 0.5678, loss G: 0.8610\n",
      "Epoch [40/50] Batch 0/1875                       Loss D: 0.5995, loss G: 1.2166\n",
      "Epoch [41/50] Batch 0/1875                       Loss D: 0.6986, loss G: 1.2217\n",
      "Epoch [42/50] Batch 0/1875                       Loss D: 0.4888, loss G: 1.1621\n",
      "Epoch [43/50] Batch 0/1875                       Loss D: 0.5433, loss G: 1.4000\n",
      "Epoch [44/50] Batch 0/1875                       Loss D: 0.7103, loss G: 0.8076\n",
      "Epoch [45/50] Batch 0/1875                       Loss D: 0.6638, loss G: 1.4666\n",
      "Epoch [46/50] Batch 0/1875                       Loss D: 0.5732, loss G: 0.9866\n",
      "Epoch [47/50] Batch 0/1875                       Loss D: 0.5570, loss G: 0.9730\n",
      "Epoch [48/50] Batch 0/1875                       Loss D: 0.4863, loss G: 1.2319\n",
      "Epoch [49/50] Batch 0/1875                       Loss D: 0.6406, loss G: 0.8353\n"
     ]
    }
   ],
   "source": [
    "from torchvision.utils import save_image\n",
    "for epoch in range(num_epochs):\n",
    "   \n",
    "    for i, (real, _) in enumerate(loader):\n",
    "       \n",
    "        real = real.view(-1,784).to(device) # flatten everything, -1 for keeping all data\n",
    "        batch_size = real.shape[0]\n",
    "\n",
    "        # train disc: max log(D(real)) + log(1-G(G(z)))\n",
    "        noise = torch.randn((batch_size, z_dim)).to(device)\n",
    "        fake = gen(noise)\n",
    "        disc_real = disc(real).view(-1)\n",
    "        lossd_real = criterion((disc_real), torch.ones_like(disc_real))\n",
    "        # in generator, we want 'fake' which was deleted after .backward() thus detach fake from graph\n",
    "        disc_fake = disc(fake.detach()).view(-1)\n",
    "        lossd_fake = criterion(disc_fake, torch.zeros_like(disc_fake))\n",
    "        lossd = (lossd_real + lossd_fake) / 2\n",
    "        disc.zero_grad()\n",
    "        lossd.backward(retain_graph=True) # another way to detach \n",
    "        opt_disc.step()\n",
    "\n",
    "        #train generator: min log(1-D(G(z))) --> better to max log(D(G(z)))\n",
    "        output = disc(fake).view(-1)\n",
    "        lossg = criterion(output, torch.ones_like(output))\n",
    "        gen.zero_grad()\n",
    "        lossg.backward()\n",
    "        opt_gen.step()\n",
    "        if i == 0:\n",
    "            print(\n",
    "                f\"Epoch [{epoch}/{num_epochs}] Batch {i}/{len(loader)} \\\n",
    "                      Loss D: {lossd:.4f}, loss G: {lossg:.4f}\"\n",
    "            )\n",
    "       \n",
    "       "
   ]
  },
  {
   "cell_type": "markdown",
   "metadata": {},
   "source": [
    "### Generate images"
   ]
  },
  {
   "cell_type": "code",
   "execution_count": 19,
   "metadata": {},
   "outputs": [
    {
     "data": {
      "image/png": "[encoded data removed]",
      "text/plain": [
       "<Figure size 1500x1500 with 10 Axes>"
      ]
     },
     "metadata": {},
     "output_type": "display_data"
    }
   ],
   "source": [
    "import matplotlib.pyplot as plt\n",
    "\n",
    "gen.eval()\n",
    "\n",
    "# Generate random noise as input\n",
    "batch_size = 10  # Number of images to generate\n",
    "noise = torch.randn(batch_size, z_dim).to(device)\n",
    "\n",
    "# Generate images\n",
    "with torch.no_grad():  # We don't need to track gradients here\n",
    "    fake_images = gen(noise)\n",
    "\n",
    "# Reshape images to 28x28 for MNIST\n",
    "fake_images = fake_images.view(batch_size, 28, 28).cpu().detach().numpy()\n",
    "\n",
    "fig, axs = plt.subplots(1, batch_size, figsize=(15, 15))\n",
    "for i in range(batch_size):\n",
    "    axs[i].imshow(fake_images[i], cmap='gray')\n",
    "    axs[i].axis('off')\n",
    "plt.show()\n"
   ]
  },
  {
   "cell_type": "markdown",
   "metadata": {},
   "source": [
    "## Save Model\n"
   ]
  },
  {
   "cell_type": "code",
   "execution_count": 16,
   "metadata": {},
   "outputs": [],
   "source": [
    "torch.save(gen.state_dict(), \"generator_model\")\n",
    "torch.save(disc.state_dict(), \"discriminator_model\")"
   ]
  },
  {
   "cell_type": "code",
   "execution_count": null,
   "metadata": {},
   "outputs": [],
   "source": []
  }
 ],
 "metadata": {
  "kernelspec": {
   "display_name": "Python 3",
   "language": "python",
   "name": "python3"
  },
  "language_info": {
   "codemirror_mode": {
    "name": "ipython",
    "version": 3
   },
   "file_extension": ".py",
   "mimetype": "text/x-python",
   "name": "python",
   "nbconvert_exporter": "python",
   "pygments_lexer": "ipython3",
   "version": "3.11.6"
  }
 },
 "nbformat": 4,
 "nbformat_minor": 2
}
